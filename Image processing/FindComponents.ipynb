{
 "cells": [
  {
   "cell_type": "code",
   "execution_count": 5,
   "metadata": {},
   "outputs": [
    {
     "data": {
      "text/plain": [
       "['components/JNPT_SUMP_TANK_STATIC .jpg',\n",
       " 'components/JNPT_VLV_HOV.jpg',\n",
       " 'components/JNPT_SUMPPUMP_STATIC.jpg',\n",
       " 'components/JNPT_PUMP_STATIC.jpg',\n",
       " 'components/JNPT_DENSITY_METER_STATIC.jpg',\n",
       " 'components/JNPT_SCRAPPER_BARRELL_STATIC.jpg',\n",
       " 'components/JNPT_BASKET_STRAINER.jpg']"
      ]
     },
     "execution_count": 5,
     "metadata": {},
     "output_type": "execute_result"
    }
   ],
   "source": [
    "import os\n",
    "import cv2\n",
    "import numpy as np\n",
    "from lxml import etree\n",
    "import glob, os\n",
    "from pathlib import Path\n",
    "\n",
    "components=[]\n",
    "for component in glob.glob(os.path.join('components', '*.jpg')):\n",
    "    components.append(component)\n",
    "components"
   ]
  },
  {
   "cell_type": "code",
   "execution_count": 6,
   "metadata": {},
   "outputs": [
    {
     "name": "stdout",
     "output_type": "stream",
     "text": [
      "JNPT_SUMP_TANK_STATIC \n",
      "JNPT_VLV_HOV\n",
      "JNPT_SUMPPUMP_STATIC\n",
      "JNPT_PUMP_STATIC\n",
      "JNPT_DENSITY_METER_STATIC\n",
      "JNPT_SCRAPPER_BARRELL_STATIC\n",
      "JNPT_BASKET_STRAINER\n",
      "{'JNPT_SUMP_TANK_STATIC ': [(3010, 3554)], 'JNPT_VLV_HOV': [(1225, 1183), (1982, 1183), (2730, 1183), (1983, 1424), (2387, 1424), (886, 1425), (1225, 1425), (1637, 1425), (2731, 1425), (2732, 1519), (898, 2685), (1285, 2685), (898, 3015), (1285, 3015), (1284, 3548), (2697, 3818), (2056, 3819), (2184, 3819), (2310, 3819), (2439, 3819), (2566, 3819), (1058, 3828), (1300, 3828), (1542, 3828), (1059, 3923), (1301, 3923), (1543, 3923)], 'JNPT_SUMPPUMP_STATIC': [(2838, 3300)], 'JNPT_PUMP_STATIC': [(1073, 1786), (1825, 1786), (2573, 1786)], 'JNPT_DENSITY_METER_STATIC': [(3818, 1441)], 'JNPT_SCRAPPER_BARRELL_STATIC': [(4879, 855)], 'JNPT_BASKET_STRAINER': [(1338, 2852), (950, 2853)]}\n"
     ]
    }
   ],
   "source": [
    "img = cv2.imread(\"jnpt.jpg\")\n",
    "gray_img = cv2.cvtColor(img, cv2.COLOR_BGR2GRAY)\n",
    "allComponents={}\n",
    "for component in components:\n",
    "    template = cv2.imread(component, cv2.IMREAD_GRAYSCALE)\n",
    "    w, h = template.shape[::-1]\n",
    "    \n",
    "    fileName = Path(component).stem\n",
    "    print(fileName)\n",
    "\n",
    "    result = cv2.matchTemplate(gray_img, template, cv2.TM_CCOEFF_NORMED)\n",
    "\n",
    "    loc = np.where(result >= 0.6)\n",
    "\n",
    "    coordiantes = []\n",
    "\n",
    "    for pt in zip(*loc[::-1]):\n",
    "        coordiantes.append(pt)\n",
    "    midPoints = []\n",
    "    mask = np.zeros(img.shape[:2], np.uint8)\n",
    "    for pt in coordiantes:\n",
    "        if mask[int(pt[1]) + int(h/2), int(pt[0]) + int(w/2)] != 255:\n",
    "            mask[pt[1]:pt[1]+h, pt[0]:pt[0]+w] = 255\n",
    "            cv2.rectangle(img, pt, (pt[0] + w, pt[1] + h), (0,255,0), 2)\n",
    "            xAxis = int((pt[0] + pt[0] + w)/2)\n",
    "            yAxis = int((pt[1] + pt[1] + h)/2)\n",
    "            midPoints.append((xAxis, yAxis))\n",
    "    cv2.imwrite(\"output/DetectedImage.jpg\", img)\n",
    "    allComponents[fileName] = midPoints"
   ]
  },
  {
   "cell_type": "code",
   "execution_count": 7,
   "metadata": {},
   "outputs": [],
   "source": [
    "def JNPT_VLV_HOV(listOfMidPoints):\n",
    "    for x in range(len(listOfMidPoints)):\n",
    "        child = etree.SubElement(root, 'symbolInstance.JNPT_VLV_HOV', type=\"componentData\")\n",
    "        subchild_ip = etree.SubElement(child, 'htmlId').text=\"210\"\n",
    "        subchild_ip = etree.SubElement(child, 'config', type=\"graphicInfo\")\n",
    "        subchild_ip = etree.SubElement(child, 'x').text = str(listOfMidPoints[x][0])\n",
    "        subchild_ip = etree.SubElement(child, 'y').text = str(listOfMidPoints[x][1])\n",
    "        subchild_ip = etree.SubElement(child, 'left').text = str(0.0)#str(coordiantes[x][0])\n",
    "        subchild_ip = etree.SubElement(child, 'top').text = str(0.0)#str(coordiantes[x][1])\n",
    "        subchild_ip = etree.SubElement(child, 'right').text = str(0.0)#str(coordiantes[x][0]+w)\n",
    "        subchild_ip = etree.SubElement(child, 'bottom').text = str(0.0)#str(coordiantes[x][1]+h)\n",
    "    return etree.ElementTree(root)\n",
    "\n",
    "def JNPT_BASKET_STRAINER(listOfMidPoints):\n",
    "    for x in range(len(listOfMidPoints)):\n",
    "        child = etree.SubElement(root, 'symbolInstance.JNPT_BASKET_STRAINER', type=\"componentData\")\n",
    "        subchild_ip = etree.SubElement(child, 'htmlId').text=\"210\"\n",
    "        subchild_ip = etree.SubElement(child, 'config', type=\"graphicInfo\")\n",
    "        subchild_ip = etree.SubElement(child, 'x').text = str(listOfMidPoints[x][0])\n",
    "        subchild_ip = etree.SubElement(child, 'y').text = str(listOfMidPoints[x][1])\n",
    "        subchild_ip = etree.SubElement(child, 'left').text = str(0.0)#str(coordiantes[x][0])\n",
    "        subchild_ip = etree.SubElement(child, 'top').text = str(0.0)#str(coordiantes[x][1])\n",
    "        subchild_ip = etree.SubElement(child, 'right').text = str(0.0)#str(coordiantes[x][0]+w)\n",
    "        subchild_ip = etree.SubElement(child, 'bottom').text = str(0.0)#str(coordiantes[x][1]+h)     \n",
    "    return etree.ElementTree(root)\n",
    "\n",
    "def JNPT_PUMP_STATIC(listOfMidPoints):\n",
    "    for x in range(len(listOfMidPoints)):\n",
    "        child = etree.SubElement(root, 'symbolInstance.JNPT_PUMP_STATIC', type=\"componentData\")\n",
    "        subchild_ip = etree.SubElement(child, 'htmlId').text=\"210\"\n",
    "        subchild_ip = etree.SubElement(child, 'config', type=\"graphicInfo\")\n",
    "        subchild_ip = etree.SubElement(child, 'x').text = str(listOfMidPoints[x][0])\n",
    "        subchild_ip = etree.SubElement(child, 'y').text = str(listOfMidPoints[x][1])\n",
    "        subchild_ip = etree.SubElement(child, 'left').text = str(0.0)#str(coordiantes[x][0])\n",
    "        subchild_ip = etree.SubElement(child, 'top').text = str(0.0)#str(coordiantes[x][1])\n",
    "        subchild_ip = etree.SubElement(child, 'right').text = str(0.0)#str(coordiantes[x][0]+w)\n",
    "        subchild_ip = etree.SubElement(child, 'bottom').text = str(0.0)#str(coordiantes[x][1]+h)     \n",
    "    return etree.ElementTree(root)\n",
    "\n",
    "def JNPT_DENSITY_METER_STATIC(listOfMidPoints):\n",
    "    for x in range(len(listOfMidPoints)):\n",
    "        child = etree.SubElement(root, 'symbolInstance.JNPT_DENSITY_METER_STATIC', type=\"componentData\")\n",
    "        subchild_ip = etree.SubElement(child, 'htmlId').text=\"210\"\n",
    "        subchild_ip = etree.SubElement(child, 'config', type=\"graphicInfo\")\n",
    "        subchild_ip = etree.SubElement(child, 'x').text = str(listOfMidPoints[x][0])\n",
    "        subchild_ip = etree.SubElement(child, 'y').text = str(listOfMidPoints[x][1])\n",
    "        subchild_ip = etree.SubElement(child, 'left').text = str(0.0)#str(coordiantes[x][0])\n",
    "        subchild_ip = etree.SubElement(child, 'top').text = str(0.0)#str(coordiantes[x][1])\n",
    "        subchild_ip = etree.SubElement(child, 'right').text = str(0.0)#str(coordiantes[x][0]+w)\n",
    "        subchild_ip = etree.SubElement(child, 'bottom').text = str(0.0)#str(coordiantes[x][1]+h)  \n",
    "        subchild_ip = etree.SubElement(child, 'TAG_NAME')        \n",
    "    return etree.ElementTree(root)\n",
    "    \n",
    "def JNPT_SUMP_TANK_STATIC (listOfMidPoints):\n",
    "    for x in range(len(listOfMidPoints)):\n",
    "        child = etree.SubElement(root, 'symbolInstance.JNPT_SUMP_TANK_STATIC', type=\"componentData\")\n",
    "        subchild_ip = etree.SubElement(child, 'htmlId').text=\"210\"\n",
    "        subchild_ip = etree.SubElement(child, 'config', type=\"graphicInfo\")\n",
    "        subchild_ip = etree.SubElement(child, 'x').text = str(listOfMidPoints[x][0])\n",
    "        subchild_ip = etree.SubElement(child, 'y').text = str(listOfMidPoints[x][1])\n",
    "        subchild_ip = etree.SubElement(child, 'left').text = str(0.0)#str(coordiantes[x][0])\n",
    "        subchild_ip = etree.SubElement(child, 'top').text = str(0.0)#str(coordiantes[x][1])\n",
    "        subchild_ip = etree.SubElement(child, 'right').text = str(0.0)#str(coordiantes[x][0]+w)\n",
    "        subchild_ip = etree.SubElement(child, 'bottom').text = str(0.0)#str(coordiantes[x][1]+h)\n",
    "    return etree.ElementTree(root)\n",
    "\n",
    "def JNPT_SCRAPPER_BARRELL_STATIC (listOfMidPoints):\n",
    "    for x in range(len(listOfMidPoints)):\n",
    "        child = etree.SubElement(root, 'symbolInstance.JNPT_SCRAPPER_BARRELL_STATIC', type=\"componentData\")\n",
    "        subchild_ip = etree.SubElement(child, 'htmlId').text=\"210\"\n",
    "        subchild_ip = etree.SubElement(child, 'config', type=\"graphicInfo\")\n",
    "        subchild_ip = etree.SubElement(child, 'x').text = str(listOfMidPoints[x][0])\n",
    "        subchild_ip = etree.SubElement(child, 'y').text = str(listOfMidPoints[x][1])\n",
    "        subchild_ip = etree.SubElement(child, 'left').text = str(0.0)#str(coordiantes[x][0])\n",
    "        subchild_ip = etree.SubElement(child, 'top').text = str(0.0)#str(coordiantes[x][1])\n",
    "        subchild_ip = etree.SubElement(child, 'right').text = str(0.0)#str(coordiantes[x][0]+w)\n",
    "        subchild_ip = etree.SubElement(child, 'bottom').text = str(0.0)#str(coordiantes[x][1]+h)\n",
    "    return etree.ElementTree(root)\n",
    "\n",
    "\n",
    "def JNPT_SUMPPUMP_STATIC (listOfMidPoints):\n",
    "    for x in range(len(listOfMidPoints)):\n",
    "        child = etree.SubElement(root, 'symbolInstance.JNPT_SUMPPUMP_STATIC', type=\"componentData\")\n",
    "        subchild_ip = etree.SubElement(child, 'htmlId').text=\"210\"\n",
    "        subchild_ip = etree.SubElement(child, 'config', type=\"graphicInfo\")\n",
    "        subchild_ip = etree.SubElement(child, 'x').text = str(listOfMidPoints[x][0])\n",
    "        subchild_ip = etree.SubElement(child, 'y').text = str(listOfMidPoints[x][1])\n",
    "        subchild_ip = etree.SubElement(child, 'left').text = str(0.0)#str(coordiantes[x][0])\n",
    "        subchild_ip = etree.SubElement(child, 'top').text = str(0.0)#str(coordiantes[x][1])\n",
    "        subchild_ip = etree.SubElement(child, 'right').text = str(0.0)#str(coordiantes[x][0]+w)\n",
    "        subchild_ip = etree.SubElement(child, 'bottom').text = str(0.0)#str(coordiantes[x][1]+h)\n",
    "    return etree.ElementTree(root)\n"
   ]
  },
  {
   "cell_type": "code",
   "execution_count": 8,
   "metadata": {},
   "outputs": [
    {
     "name": "stdout",
     "output_type": "stream",
     "text": [
      "b'<symbolInstance><symbolInstance.JNPT_SUMP_TANK_STATIC type=\"componentData\"><htmlId>210</htmlId><config type=\"graphicInfo\"/><x>3010</x><y>3554</y><left>0.0</left><top>0.0</top><right>0.0</right><bottom>0.0</bottom></symbolInstance.JNPT_SUMP_TANK_STATIC><symbolInstance.JNPT_VLV_HOV type=\"componentData\"><htmlId>210</htmlId><config type=\"graphicInfo\"/><x>1225</x><y>1183</y><left>0.0</left><top>0.0</top><right>0.0</right><bottom>0.0</bottom></symbolInstance.JNPT_VLV_HOV><symbolInstance.JNPT_VLV_HOV type=\"componentData\"><htmlId>210</htmlId><config type=\"graphicInfo\"/><x>1982</x><y>1183</y><left>0.0</left><top>0.0</top><right>0.0</right><bottom>0.0</bottom></symbolInstance.JNPT_VLV_HOV><symbolInstance.JNPT_VLV_HOV type=\"componentData\"><htmlId>210</htmlId><config type=\"graphicInfo\"/><x>2730</x><y>1183</y><left>0.0</left><top>0.0</top><right>0.0</right><bottom>0.0</bottom></symbolInstance.JNPT_VLV_HOV><symbolInstance.JNPT_VLV_HOV type=\"componentData\"><htmlId>210</htmlId><config type=\"graphicInfo\"/><x>1983</x><y>1424</y><left>0.0</left><top>0.0</top><right>0.0</right><bottom>0.0</bottom></symbolInstance.JNPT_VLV_HOV><symbolInstance.JNPT_VLV_HOV type=\"componentData\"><htmlId>210</htmlId><config type=\"graphicInfo\"/><x>2387</x><y>1424</y><left>0.0</left><top>0.0</top><right>0.0</right><bottom>0.0</bottom></symbolInstance.JNPT_VLV_HOV><symbolInstance.JNPT_VLV_HOV type=\"componentData\"><htmlId>210</htmlId><config type=\"graphicInfo\"/><x>886</x><y>1425</y><left>0.0</left><top>0.0</top><right>0.0</right><bottom>0.0</bottom></symbolInstance.JNPT_VLV_HOV><symbolInstance.JNPT_VLV_HOV type=\"componentData\"><htmlId>210</htmlId><config type=\"graphicInfo\"/><x>1225</x><y>1425</y><left>0.0</left><top>0.0</top><right>0.0</right><bottom>0.0</bottom></symbolInstance.JNPT_VLV_HOV><symbolInstance.JNPT_VLV_HOV type=\"componentData\"><htmlId>210</htmlId><config type=\"graphicInfo\"/><x>1637</x><y>1425</y><left>0.0</left><top>0.0</top><right>0.0</right><bottom>0.0</bottom></symbolInstance.JNPT_VLV_HOV><symbolInstance.JNPT_VLV_HOV type=\"componentData\"><htmlId>210</htmlId><config type=\"graphicInfo\"/><x>2731</x><y>1425</y><left>0.0</left><top>0.0</top><right>0.0</right><bottom>0.0</bottom></symbolInstance.JNPT_VLV_HOV><symbolInstance.JNPT_VLV_HOV type=\"componentData\"><htmlId>210</htmlId><config type=\"graphicInfo\"/><x>2732</x><y>1519</y><left>0.0</left><top>0.0</top><right>0.0</right><bottom>0.0</bottom></symbolInstance.JNPT_VLV_HOV><symbolInstance.JNPT_VLV_HOV type=\"componentData\"><htmlId>210</htmlId><config type=\"graphicInfo\"/><x>898</x><y>2685</y><left>0.0</left><top>0.0</top><right>0.0</right><bottom>0.0</bottom></symbolInstance.JNPT_VLV_HOV><symbolInstance.JNPT_VLV_HOV type=\"componentData\"><htmlId>210</htmlId><config type=\"graphicInfo\"/><x>1285</x><y>2685</y><left>0.0</left><top>0.0</top><right>0.0</right><bottom>0.0</bottom></symbolInstance.JNPT_VLV_HOV><symbolInstance.JNPT_VLV_HOV type=\"componentData\"><htmlId>210</htmlId><config type=\"graphicInfo\"/><x>898</x><y>3015</y><left>0.0</left><top>0.0</top><right>0.0</right><bottom>0.0</bottom></symbolInstance.JNPT_VLV_HOV><symbolInstance.JNPT_VLV_HOV type=\"componentData\"><htmlId>210</htmlId><config type=\"graphicInfo\"/><x>1285</x><y>3015</y><left>0.0</left><top>0.0</top><right>0.0</right><bottom>0.0</bottom></symbolInstance.JNPT_VLV_HOV><symbolInstance.JNPT_VLV_HOV type=\"componentData\"><htmlId>210</htmlId><config type=\"graphicInfo\"/><x>1284</x><y>3548</y><left>0.0</left><top>0.0</top><right>0.0</right><bottom>0.0</bottom></symbolInstance.JNPT_VLV_HOV><symbolInstance.JNPT_VLV_HOV type=\"componentData\"><htmlId>210</htmlId><config type=\"graphicInfo\"/><x>2697</x><y>3818</y><left>0.0</left><top>0.0</top><right>0.0</right><bottom>0.0</bottom></symbolInstance.JNPT_VLV_HOV><symbolInstance.JNPT_VLV_HOV type=\"componentData\"><htmlId>210</htmlId><config type=\"graphicInfo\"/><x>2056</x><y>3819</y><left>0.0</left><top>0.0</top><right>0.0</right><bottom>0.0</bottom></symbolInstance.JNPT_VLV_HOV><symbolInstance.JNPT_VLV_HOV type=\"componentData\"><htmlId>210</htmlId><config type=\"graphicInfo\"/><x>2184</x><y>3819</y><left>0.0</left><top>0.0</top><right>0.0</right><bottom>0.0</bottom></symbolInstance.JNPT_VLV_HOV><symbolInstance.JNPT_VLV_HOV type=\"componentData\"><htmlId>210</htmlId><config type=\"graphicInfo\"/><x>2310</x><y>3819</y><left>0.0</left><top>0.0</top><right>0.0</right><bottom>0.0</bottom></symbolInstance.JNPT_VLV_HOV><symbolInstance.JNPT_VLV_HOV type=\"componentData\"><htmlId>210</htmlId><config type=\"graphicInfo\"/><x>2439</x><y>3819</y><left>0.0</left><top>0.0</top><right>0.0</right><bottom>0.0</bottom></symbolInstance.JNPT_VLV_HOV><symbolInstance.JNPT_VLV_HOV type=\"componentData\"><htmlId>210</htmlId><config type=\"graphicInfo\"/><x>2566</x><y>3819</y><left>0.0</left><top>0.0</top><right>0.0</right><bottom>0.0</bottom></symbolInstance.JNPT_VLV_HOV><symbolInstance.JNPT_VLV_HOV type=\"componentData\"><htmlId>210</htmlId><config type=\"graphicInfo\"/><x>1058</x><y>3828</y><left>0.0</left><top>0.0</top><right>0.0</right><bottom>0.0</bottom></symbolInstance.JNPT_VLV_HOV><symbolInstance.JNPT_VLV_HOV type=\"componentData\"><htmlId>210</htmlId><config type=\"graphicInfo\"/><x>1300</x><y>3828</y><left>0.0</left><top>0.0</top><right>0.0</right><bottom>0.0</bottom></symbolInstance.JNPT_VLV_HOV><symbolInstance.JNPT_VLV_HOV type=\"componentData\"><htmlId>210</htmlId><config type=\"graphicInfo\"/><x>1542</x><y>3828</y><left>0.0</left><top>0.0</top><right>0.0</right><bottom>0.0</bottom></symbolInstance.JNPT_VLV_HOV><symbolInstance.JNPT_VLV_HOV type=\"componentData\"><htmlId>210</htmlId><config type=\"graphicInfo\"/><x>1059</x><y>3923</y><left>0.0</left><top>0.0</top><right>0.0</right><bottom>0.0</bottom></symbolInstance.JNPT_VLV_HOV><symbolInstance.JNPT_VLV_HOV type=\"componentData\"><htmlId>210</htmlId><config type=\"graphicInfo\"/><x>1301</x><y>3923</y><left>0.0</left><top>0.0</top><right>0.0</right><bottom>0.0</bottom></symbolInstance.JNPT_VLV_HOV><symbolInstance.JNPT_VLV_HOV type=\"componentData\"><htmlId>210</htmlId><config type=\"graphicInfo\"/><x>1543</x><y>3923</y><left>0.0</left><top>0.0</top><right>0.0</right><bottom>0.0</bottom></symbolInstance.JNPT_VLV_HOV><symbolInstance.JNPT_SUMPPUMP_STATIC type=\"componentData\"><htmlId>210</htmlId><config type=\"graphicInfo\"/><x>2838</x><y>3300</y><left>0.0</left><top>0.0</top><right>0.0</right><bottom>0.0</bottom></symbolInstance.JNPT_SUMPPUMP_STATIC><symbolInstance.JNPT_PUMP_STATIC type=\"componentData\"><htmlId>210</htmlId><config type=\"graphicInfo\"/><x>1073</x><y>1786</y><left>0.0</left><top>0.0</top><right>0.0</right><bottom>0.0</bottom></symbolInstance.JNPT_PUMP_STATIC><symbolInstance.JNPT_PUMP_STATIC type=\"componentData\"><htmlId>210</htmlId><config type=\"graphicInfo\"/><x>1825</x><y>1786</y><left>0.0</left><top>0.0</top><right>0.0</right><bottom>0.0</bottom></symbolInstance.JNPT_PUMP_STATIC><symbolInstance.JNPT_PUMP_STATIC type=\"componentData\"><htmlId>210</htmlId><config type=\"graphicInfo\"/><x>2573</x><y>1786</y><left>0.0</left><top>0.0</top><right>0.0</right><bottom>0.0</bottom></symbolInstance.JNPT_PUMP_STATIC><symbolInstance.JNPT_DENSITY_METER_STATIC type=\"componentData\"><htmlId>210</htmlId><config type=\"graphicInfo\"/><x>3818</x><y>1441</y><left>0.0</left><top>0.0</top><right>0.0</right><bottom>0.0</bottom><TAG_NAME/></symbolInstance.JNPT_DENSITY_METER_STATIC><symbolInstance.JNPT_SCRAPPER_BARRELL_STATIC type=\"componentData\"><htmlId>210</htmlId><config type=\"graphicInfo\"/><x>4879</x><y>855</y><left>0.0</left><top>0.0</top><right>0.0</right><bottom>0.0</bottom></symbolInstance.JNPT_SCRAPPER_BARRELL_STATIC><symbolInstance.JNPT_BASKET_STRAINER type=\"componentData\"><htmlId>210</htmlId><config type=\"graphicInfo\"/><x>1338</x><y>2852</y><left>0.0</left><top>0.0</top><right>0.0</right><bottom>0.0</bottom></symbolInstance.JNPT_BASKET_STRAINER><symbolInstance.JNPT_BASKET_STRAINER type=\"componentData\"><htmlId>210</htmlId><config type=\"graphicInfo\"/><x>950</x><y>2853</y><left>0.0</left><top>0.0</top><right>0.0</right><bottom>0.0</bottom></symbolInstance.JNPT_BASKET_STRAINER></symbolInstance>'\n"
     ]
    }
   ],
   "source": [
    "root = etree.Element(\"symbolInstance\")\n",
    "doc = etree.ElementTree(root)\n",
    "\n",
    "for i in allComponents:\n",
    "    eval(i)(allComponents[i])\n",
    "\n",
    "tree = etree.ElementTree(root)\n",
    "tree.write('output/TestXML.xml', pretty_print=True, xml_declaration=True,   encoding=\"utf-8\")\n",
    "\n",
    "print(etree.tostring(root))"
   ]
  }
 ],
 "metadata": {
  "kernelspec": {
   "display_name": "Python 3",
   "language": "python",
   "name": "python3"
  },
  "language_info": {
   "codemirror_mode": {
    "name": "ipython",
    "version": 3
   },
   "file_extension": ".py",
   "mimetype": "text/x-python",
   "name": "python",
   "nbconvert_exporter": "python",
   "pygments_lexer": "ipython3",
   "version": "3.7.4"
  }
 },
 "nbformat": 4,
 "nbformat_minor": 4
}
